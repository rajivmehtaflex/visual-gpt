{
  "cells": [
    {
      "cell_type": "code",
      "execution_count": null,
      "metadata": {
        "id": "yzl-hRii-Us6"
      },
      "outputs": [],
      "source": [
        "# Visual chatgpt colab support\n",
        "# Author: Rupesh Sreeraman\n",
        "# Supports text to image,ImageCaptioning,BLIP VQA,image to canny\n",
        "# Modified for colab support https://github.com/rupeshs/visual-chatgpt/tree/add-colab-support\n",
        "\n",
        "!git clone https://github.com/rupeshs/visual-chatgpt.git"
      ]
    },
    {
      "cell_type": "code",
      "execution_count": null,
      "metadata": {
        "id": "xOWfi0EyBlQ5"
      },
      "outputs": [],
      "source": [
        "%cd visual-chatgpt/"
      ]
    },
    {
      "cell_type": "markdown",
      "metadata": {
        "id": "TcP1eekPFZxp"
      },
      "source": []
    },
    {
      "cell_type": "code",
      "execution_count": null,
      "metadata": {
        "id": "Y4PnVNM4BtAw"
      },
      "outputs": [],
      "source": [
        "!git checkout add-colab-support"
      ]
    },
    {
      "cell_type": "code",
      "execution_count": null,
      "metadata": {
        "id": "if0OF9MZB0OJ"
      },
      "outputs": [],
      "source": [
        "!pip install -r requirements-colab.txt"
      ]
    },
    {
      "cell_type": "code",
      "execution_count": null,
      "metadata": {
        "id": "x3nPU9mCHA-x"
      },
      "outputs": [],
      "source": [
        "# (Not used)\n",
        "!chmod +x download.sh\n",
        "!./download.sh"
      ]
    },
    {
      "cell_type": "code",
      "execution_count": null,
      "metadata": {
        "id": "9PIoqUALCozz"
      },
      "outputs": [],
      "source": [
        "# %env OPENAI_API_KEY=...\n",
        "# %env COHERE_API_KEY=.."
      ]
    },
    {
      "cell_type": "code",
      "execution_count": null,
      "metadata": {
        "id": "mzyD2F5LC0Ow"
      },
      "outputs": [],
      "source": [
        "!mkdir ./image"
      ]
    },
    {
      "cell_type": "code",
      "execution_count": null,
      "metadata": {
        "id": "Cgpnh8vhC47R"
      },
      "outputs": [],
      "source": [
        "!python visual_chatgpt.py --share"
      ]
    }
  ],
  "metadata": {
    "accelerator": "GPU",
    "colab": {
      "provenance": [],
      "toc_visible": true
    },
    "gpuClass": "standard",
    "kernelspec": {
      "display_name": "Python 3",
      "name": "python3"
    },
    "language_info": {
      "codemirror_mode": {
        "name": "ipython",
        "version": 3
      },
      "file_extension": ".py",
      "mimetype": "text/x-python",
      "name": "python",
      "nbconvert_exporter": "python",
      "pygments_lexer": "ipython3",
      "version": "3.9.16"
    }
  },
  "nbformat": 4,
  "nbformat_minor": 0
}
